{
  "nbformat": 4,
  "nbformat_minor": 0,
  "metadata": {
    "colab": {
      "name": "Sprint_challenge2.ipynb",
      "provenance": [],
      "collapsed_sections": [],
      "include_colab_link": true
    },
    "kernelspec": {
      "name": "python3",
      "display_name": "Python 3"
    }
  },
  "cells": [
    {
      "cell_type": "markdown",
      "metadata": {
        "id": "view-in-github",
        "colab_type": "text"
      },
      "source": [
        "<a href=\"https://colab.research.google.com/github/Baisal89/DS-Unit-3-Sprint-2-SQL-and-Databases/blob/master/Sprint_challenge2.ipynb\" target=\"_parent\"><img src=\"https://colab.research.google.com/assets/colab-badge.svg\" alt=\"Open In Colab\"/></a>"
      ]
    },
    {
      "cell_type": "code",
      "metadata": {
        "id": "M0AHwPauckTs",
        "colab_type": "code",
        "outputId": "51a5ec60-adbc-44c0-b1fd-3772a432a024",
        "colab": {
          "base_uri": "https://localhost:8080/",
          "height": 34
        }
      },
      "source": [
        "import sqlite3\n",
        "\n",
        "# making a new connection database file 'demo_data_sqlite3\n",
        "conn = sqlite3.connect('demo_data.sqlite3')\n",
        "\n",
        "curs = conn.cursor()\n",
        "curs.execute('drop table if exists demo')\n",
        "\n",
        "# demo table\n",
        "create_demo_table = \"\"\"\n",
        "        CREATE TABLE demo (\n",
        "                s PRIMARY KEY,\n",
        "                x INT,\n",
        "                y INT\n",
        "        )\n",
        "\"\"\"\n",
        "\n",
        "#execute the demo\n",
        "curs.execute(create_demo_table)"
      ],
      "execution_count": 0,
      "outputs": [
        {
          "output_type": "execute_result",
          "data": {
            "text/plain": [
              "<sqlite3.Cursor at 0x7f8d24273810>"
            ]
          },
          "metadata": {
            "tags": []
          },
          "execution_count": 1
        }
      ]
    },
    {
      "cell_type": "code",
      "metadata": {
        "id": "m4YQprbbdww9",
        "colab_type": "code",
        "colab": {}
      },
      "source": [
        "tuples = [('g', 3, 9),\n",
        "          ('v', 5, 7),\n",
        "          ('f', 8, 7)]\n",
        "\n",
        "# Itereate over each row in the tuples\n",
        "\n",
        "for row in tuples:\n",
        "  insert_row = 'INSERT INTO demo VALUES' + str(row)\n",
        "  curs.execute(insert_row)\n",
        "\n",
        "conn.commit()"
      ],
      "execution_count": 0,
      "outputs": []
    },
    {
      "cell_type": "code",
      "metadata": {
        "id": "ZYfyTGGBjTaS",
        "colab_type": "code",
        "colab": {}
      },
      "source": [
        "curs = conn.cursor()"
      ],
      "execution_count": 0,
      "outputs": []
    },
    {
      "cell_type": "code",
      "metadata": {
        "id": "btGA8VrkjYBw",
        "colab_type": "code",
        "outputId": "afb99467-7e55-4e30-ae35-6185972b1192",
        "colab": {
          "base_uri": "https://localhost:8080/",
          "height": 34
        }
      },
      "source": [
        "#query total data form the demo\n",
        "curs.execute('SELECT * FROM demo')\n",
        "curs.fetchall()"
      ],
      "execution_count": 0,
      "outputs": [
        {
          "output_type": "execute_result",
          "data": {
            "text/plain": [
              "[('g', 3, 9), ('v', 5, 7), ('f', 8, 7)]"
            ]
          },
          "metadata": {
            "tags": []
          },
          "execution_count": 4
        }
      ]
    },
    {
      "cell_type": "code",
      "metadata": {
        "id": "4MRr8mxwjmP6",
        "colab_type": "code",
        "outputId": "e9a1d5b7-1261-4579-dac5-c99a935a160a",
        "colab": {
          "base_uri": "https://localhost:8080/",
          "height": 119
        }
      },
      "source": [
        "questions = ['1: Count how many rows you have - it should be 3!',\n",
        "             '2: How many rows are there where both \"x\" and \"y\" are at least 5?',\n",
        "             \"3: How many unique values of 'y' are there?\" ]\n",
        "\n",
        "queries = ['SELECT COUNT(*) FROM demo;',\n",
        "           'SELECT COUNT(*) FROM demo WHERE  x >= 5 AND y >= 5;',\n",
        "           'SELECT COUNT(DISTINCT Y) FROM demo;']\n",
        "\n",
        "# Iterate over and print each questions execute the corresponding query, print the result\n",
        "\n",
        "for i in range(len(questions)):\n",
        "  print(questions[i])\n",
        "  curs.execute(queries[i])\n",
        "  print(curs.fetchall()[0][0])\n",
        "  "
      ],
      "execution_count": 0,
      "outputs": [
        {
          "output_type": "stream",
          "text": [
            "1: Count how many rows you have - it should be 3!\n",
            "3\n",
            "2: How many rows are there where both \"x\" and \"y\" are at least 5?\n",
            "2\n",
            "3: How many unique values of 'y' are there?\n",
            "2\n"
          ],
          "name": "stdout"
        }
      ]
    },
    {
      "cell_type": "markdown",
      "metadata": {
        "id": "6OJTxZHetEzH",
        "colab_type": "text"
      },
      "source": [
        "**Part 2 The Northwind Database**"
      ]
    },
    {
      "cell_type": "code",
      "metadata": {
        "id": "LdVxLm6Ermfm",
        "colab_type": "code",
        "colab": {}
      },
      "source": [
        "from google.colab import files\n",
        "uploaded = files.upload()"
      ],
      "execution_count": 0,
      "outputs": []
    },
    {
      "cell_type": "code",
      "metadata": {
        "id": "PoeraCAWxhXr",
        "colab_type": "code",
        "colab": {}
      },
      "source": [
        ""
      ],
      "execution_count": 0,
      "outputs": []
    },
    {
      "cell_type": "code",
      "metadata": {
        "id": "Vl-w3I9Zl6ju",
        "colab_type": "code",
        "colab": {}
      },
      "source": [
        "# connecting to the northwind_small(1).sqlite3\n",
        "conn = sqlite3.connect('/content/northwind_small (1).sqlite3')\n",
        "curs = conn.cursor()"
      ],
      "execution_count": 0,
      "outputs": []
    },
    {
      "cell_type": "code",
      "metadata": {
        "id": "aqKBJT84xZ8c",
        "colab_type": "code",
        "outputId": "d8a2c3bc-d143-4028-8710-b5379dcbbdbc",
        "colab": {
          "base_uri": "https://localhost:8080/",
          "height": 34
        }
      },
      "source": [
        "conn"
      ],
      "execution_count": 0,
      "outputs": [
        {
          "output_type": "execute_result",
          "data": {
            "text/plain": [
              "<sqlite3.Connection at 0x7f8d24366b90>"
            ]
          },
          "metadata": {
            "tags": []
          },
          "execution_count": 14
        }
      ]
    },
    {
      "cell_type": "code",
      "metadata": {
        "id": "0k-nOUokxeAM",
        "colab_type": "code",
        "outputId": "b96f2ab1-9aca-442a-9fcc-a939bed7bb44",
        "colab": {
          "base_uri": "https://localhost:8080/",
          "height": 34
        }
      },
      "source": [
        " curs"
      ],
      "execution_count": 0,
      "outputs": [
        {
          "output_type": "execute_result",
          "data": {
            "text/plain": [
              "<sqlite3.Cursor at 0x7f8d239d1e30>"
            ]
          },
          "metadata": {
            "tags": []
          },
          "execution_count": 15
        }
      ]
    },
    {
      "cell_type": "code",
      "metadata": {
        "id": "olKEQxVLmb9w",
        "colab_type": "code",
        "outputId": "ef96b010-5a14-4cf9-c2c2-d22a9d9375e1",
        "colab": {
          "base_uri": "https://localhost:8080/",
          "height": 1000
        }
      },
      "source": [
        "\n",
        "# Questions\n",
        "\n",
        "questions = ['1: What are the ten most expensive items (per unit price) in the database?',\n",
        "             '2: What is the avarage agerof an employee at the time of their hiring?',\n",
        "             '3: How does the average age of employee at hire vary by city?']\n",
        "\n",
        "queries = ['SELECT ProductName, UnitPrice FROM Product ORDER BY UnitPrice DESC;',\n",
        "           'SELECT ROUND(AVG(HireDate - BirthDate), 1) AS Avg_ag FROM Employee;',\n",
        "           'SELECT CITY, AVG(HireDate - BirthDate) AS Avg_Age FROM Employee GROUP BY CITY;']\n",
        "\n",
        "#Use for loop in order to iterate and execute the questions and queries and to see the results\n",
        "\n",
        "for i in range(len(questions)):\n",
        "        print(questions[i])\n",
        "        curs.execute(queries[i])\n",
        "        results = curs.fetchall()\n",
        "        if len(results) == 1:\n",
        "              print(results)\n",
        "        else:\n",
        "              for res in results:\n",
        "                  print(res)\n",
        "        print('\\n')\n"
      ],
      "execution_count": 26,
      "outputs": [
        {
          "output_type": "stream",
          "text": [
            "1: What are the ten most expensive items (per unit price) in the database?\n",
            "('Côte de Blaye', 263.5)\n",
            "('Thüringer Rostbratwurst', 123.79)\n",
            "('Mishi Kobe Niku', 97)\n",
            "(\"Sir Rodney's Marmalade\", 81)\n",
            "('Carnarvon Tigers', 62.5)\n",
            "('Raclette Courdavault', 55)\n",
            "('Manjimup Dried Apples', 53)\n",
            "('Tarte au sucre', 49.3)\n",
            "('Ipoh Coffee', 46)\n",
            "('Rössle Sauerkraut', 45.6)\n",
            "('Schoggi Schokolade', 43.9)\n",
            "('Vegie-spread', 43.9)\n",
            "('Northwoods Cranberry Sauce', 40)\n",
            "('Alice Mutton', 39)\n",
            "('Queso Manchego La Pastora', 38)\n",
            "('Gnocchi di nonna Alice', 38)\n",
            "('Gudbrandsdalsost', 36)\n",
            "('Mozzarella di Giovanni', 34.8)\n",
            "('Camembert Pierrot', 34)\n",
            "('Wimmers gute Semmelknödel', 33.25)\n",
            "('Perth Pasties', 32.8)\n",
            "('Mascarpone Fabioli', 32)\n",
            "('Gumbär Gummibärchen', 31.23)\n",
            "('Ikura', 31)\n",
            "(\"Uncle Bob's Organic Dried Pears\", 30)\n",
            "(\"Sirop d'érable\", 28.5)\n",
            "('Gravad lax', 26)\n",
            "('Nord-Ost Matjeshering', 25.89)\n",
            "(\"Grandma's Boysenberry Spread\", 25)\n",
            "('Pâté chinois', 24)\n",
            "('Tofu', 23.25)\n",
            "(\"Chef Anton's Cajun Seasoning\", 22)\n",
            "('Flotemysost', 21.5)\n",
            "(\"Chef Anton's Gumbo Mix\", 21.35)\n",
            "('Louisiana Fiery Hot Pepper Sauce', 21.05)\n",
            "('Queso Cabrales', 21)\n",
            "(\"Gustaf's Knäckebröd\", 21)\n",
            "('Maxilaku', 20)\n",
            "('Ravioli Angelo', 19.5)\n",
            "('Gula Malacca', 19.45)\n",
            "('Chang', 19)\n",
            "('Inlagd Sill', 19)\n",
            "('Boston Crab Meat', 18.4)\n",
            "('Chai', 18)\n",
            "('Steeleye Stout', 18)\n",
            "('Chartreuse verte', 18)\n",
            "('Lakkalikööri', 18)\n",
            "('Pavlova', 17.45)\n",
            "('Louisiana Hot Spiced Okra', 17)\n",
            "('Valkoinen suklaa', 16.25)\n",
            "('Genen Shouyu', 15.5)\n",
            "('Outback Lager', 15)\n",
            "('Röd Kaviar', 15)\n",
            "('NuNuCa Nuß-Nougat-Creme', 14)\n",
            "('Sasquatch Ale', 14)\n",
            "('Singaporean Hokkien Fried Mee', 14)\n",
            "('Laughing Lumberjack Lager', 14)\n",
            "('Escargots de Bourgogne', 13.25)\n",
            "('Original Frankfurter grüne Soße', 13)\n",
            "('Chocolade', 12.75)\n",
            "('Gorgonzola Telino', 12.5)\n",
            "('Scottish Longbreads', 12.5)\n",
            "('Spegesild', 12)\n",
            "('Aniseed Syrup', 10)\n",
            "(\"Sir Rodney's Scones\", 10)\n",
            "('Longlife Tofu', 10)\n",
            "(\"Jack's New England Clam Chowder\", 9.65)\n",
            "('Rogede sild', 9.5)\n",
            "('Zaanse koeken', 9.5)\n",
            "('Teatime Chocolate Biscuits', 9.2)\n",
            "('Tunnbröd', 9)\n",
            "('Rhönbräu Klosterbier', 7.75)\n",
            "('Tourtière', 7.45)\n",
            "('Filo Mix', 7)\n",
            "('Konbu', 6)\n",
            "('Guaraná Fantástica', 4.5)\n",
            "('Geitost', 2.5)\n",
            "\n",
            "\n",
            "2: What is the avarage agerof an employee at the time of their hiring?\n",
            "[(37.2,)]\n",
            "\n",
            "\n",
            "3: How does the average age of employee at hire vary by city?\n",
            "('Kirkland', 29.0)\n",
            "('London', 32.5)\n",
            "('Redmond', 56.0)\n",
            "('Seattle', 40.0)\n",
            "('Tacoma', 40.0)\n",
            "\n",
            "\n"
          ],
          "name": "stdout"
        }
      ]
    },
    {
      "cell_type": "markdown",
      "metadata": {
        "id": "ic4X3jl5tC1z",
        "colab_type": "text"
      },
      "source": [
        "**Part 3 Sailing the Northwind Seas**"
      ]
    },
    {
      "cell_type": "code",
      "metadata": {
        "id": "gCB6KGiIqBAK",
        "colab_type": "code",
        "outputId": "38536d0d-c8f3-456b-93f0-40adf6358fa1",
        "colab": {
          "base_uri": "https://localhost:8080/",
          "height": 374
        }
      },
      "source": [
        "questions = ['1: What are the ten most expensive items (per unit price) in the database and their suppliers?',\n",
        "             '2: What is the largest category (by number of unique products in it)?',\n",
        "             \"3: Who's the employee with the most territories?\"]\n",
        "\n",
        "queries = [\"SELECT Product.ProductName, Product.UnitPrice, Supplier.CompanyName AS Supplier FROM Product, Supplier WHERE Product.SupplierID = Supplier.ID ORDER BY UnitPrice DESC LIMIT 10;\",\n",
        "           \"SELECT Category.CategoryName, Count(*) FROM Product, Category WHERE Product.CategoryID = Category.ID GROUP BY Product.CategoryID ORDER BY COUNT(*) DESC LIMIT 1;\",\n",
        "           \"SELECT Employee.FirstName, Employee.LastName, COUNT(*) FROM Employee, EmployeeTerritory WHERE EmployeeID = Employee.ID Group BY Employee.ID ORDER BY COUNT(*) DESC LIMIT 1;\"]\n",
        "#\n",
        "\n",
        "for r in range(len(questions)):\n",
        "        print(questions[r])\n",
        "        curs.execute(queries[r])\n",
        "        results = curs.fetchall()\n",
        "        if len(results) == 1:\n",
        "            print(results)\n",
        "        else:\n",
        "            for res in results:\n",
        "              print(res)\n",
        "        print('\\n')"
      ],
      "execution_count": 25,
      "outputs": [
        {
          "output_type": "stream",
          "text": [
            "1: What are the ten most expensive items (per unit price) in the database and their suppliers?\n",
            "('Côte de Blaye', 263.5, 'Aux joyeux ecclésiastiques')\n",
            "('Thüringer Rostbratwurst', 123.79, 'Plutzer Lebensmittelgroßmärkte AG')\n",
            "('Mishi Kobe Niku', 97, 'Tokyo Traders')\n",
            "(\"Sir Rodney's Marmalade\", 81, 'Specialty Biscuits, Ltd.')\n",
            "('Carnarvon Tigers', 62.5, 'Pavlova, Ltd.')\n",
            "('Raclette Courdavault', 55, 'Gai pâturage')\n",
            "('Manjimup Dried Apples', 53, \"G'day, Mate\")\n",
            "('Tarte au sucre', 49.3, \"Forêts d'érables\")\n",
            "('Ipoh Coffee', 46, 'Leka Trading')\n",
            "('Rössle Sauerkraut', 45.6, 'Plutzer Lebensmittelgroßmärkte AG')\n",
            "\n",
            "\n",
            "2: What is the largest category (by number of unique products in it)?\n",
            "[('Confections', 13)]\n",
            "\n",
            "\n",
            "3: Who's the employee with the most territories?\n",
            "[('Robert', 'King', 10)]\n",
            "\n",
            "\n"
          ],
          "name": "stdout"
        }
      ]
    },
    {
      "cell_type": "markdown",
      "metadata": {
        "id": "SxFozmth0Pf1",
        "colab_type": "text"
      },
      "source": [
        "**Part 4 Questions (and your Answers)**"
      ]
    },
    {
      "cell_type": "code",
      "metadata": {
        "id": "K1T2MTQoxJuw",
        "colab_type": "code",
        "colab": {}
      },
      "source": [
        "quetions = ['1: In the Northwind database, what is the type of relationship between the \"Employee\" and \"Territory\"?',\n",
        "            '2: What is a situation where a documnet store (like MongoDB) is appropriate, and what is not appropriate?',\n",
        "            '3: What is \"NewSQL\", and what is it trying to achive?']\n",
        "\n",
        "answers = ['1:  It looks like Northwind database is \"onw to many\" relationship',\n",
        "           '2: Usually unstructured and semi_structured data are stored in MongoDB because it can hold large amount of data and it is appropriate.',\n",
        "           '3: I think NewSQL is kind of blended aproach to the database systems to reconciele the conflicts ']"
      ],
      "execution_count": 0,
      "outputs": []
    }
  ]
}