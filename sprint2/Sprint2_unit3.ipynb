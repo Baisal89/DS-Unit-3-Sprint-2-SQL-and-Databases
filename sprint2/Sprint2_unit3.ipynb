{
  "nbformat": 4,
  "nbformat_minor": 0,
  "metadata": {
    "colab": {
      "name": "Sprint2_unit3.ipynb",
      "provenance": [],
      "collapsed_sections": [],
      "toc_visible": true
    },
    "kernelspec": {
      "name": "python3",
      "display_name": "Python 3"
    }
  },
  "cells": [
    {
      "cell_type": "code",
      "metadata": {
        "id": "tm1GX7jizaPx",
        "colab_type": "code",
        "colab": {}
      },
      "source": [
        "import sqlite3"
      ],
      "execution_count": 0,
      "outputs": []
    },
    {
      "cell_type": "code",
      "metadata": {
        "id": "A4qrMrLszcNV",
        "colab_type": "code",
        "outputId": "d1f16283-7e5b-4081-8e37-8d03cd4b7e38",
        "colab": {
          "base_uri": "https://localhost:8080/",
          "height": 34
        }
      },
      "source": [
        "# Making a new connection database file 'demo_data_sqlite3'\n",
        "conn = sqlite3.connect('demo_data.sqlite3')\n",
        "\n",
        "curs = conn.cursor()\n",
        "curs.execute('drop table if exists demo')\n",
        "\n",
        "#demo table\n",
        "create_demo_table = \"\"\" CREATE TABLE demo (\n",
        "                                s PRIMARY KEY,\n",
        "                                x INT,\n",
        "                                y INT\n",
        ")\"\"\"\n",
        "\n",
        "#execute the demo\n",
        "curs.execute(create_demo_table)"
      ],
      "execution_count": 0,
      "outputs": [
        {
          "output_type": "execute_result",
          "data": {
            "text/plain": [
              "<sqlite3.Cursor at 0x7f6f2fe426c0>"
            ]
          },
          "metadata": {
            "tags": []
          },
          "execution_count": 2
        }
      ]
    },
    {
      "cell_type": "code",
      "metadata": {
        "id": "8qdtcj6d710y",
        "colab_type": "code",
        "outputId": "948feb30-f7f5-49ec-b330-5045adfaa4b2",
        "colab": {
          "base_uri": "https://localhost:8080/",
          "height": 34
        }
      },
      "source": [
        "tuples = [('g', 3, 9),\n",
        "         ('v', 5, 7),\n",
        "         ('f', 8, 7)]\n",
        "\n",
        "# Itereate over each row in the tuples\n",
        "\n",
        "for row in tuples:\n",
        "  insert_row = 'INSERT INTO demo VALUES' + str(row)\n",
        "  curs.execute(insert_row)\n",
        "\n",
        "conn.commit"
      ],
      "execution_count": 0,
      "outputs": [
        {
          "output_type": "execute_result",
          "data": {
            "text/plain": [
              "<function Connection.commit>"
            ]
          },
          "metadata": {
            "tags": []
          },
          "execution_count": 3
        }
      ]
    },
    {
      "cell_type": "code",
      "metadata": {
        "id": "HXzr1uOa8ePk",
        "colab_type": "code",
        "colab": {}
      },
      "source": [
        "curs = conn.cursor()"
      ],
      "execution_count": 0,
      "outputs": []
    },
    {
      "cell_type": "code",
      "metadata": {
        "id": "81hN59K-8pqv",
        "colab_type": "code",
        "outputId": "c90e72c1-2c5c-43e2-e687-774680404872",
        "colab": {
          "base_uri": "https://localhost:8080/",
          "height": 34
        }
      },
      "source": [
        "curs"
      ],
      "execution_count": 0,
      "outputs": [
        {
          "output_type": "execute_result",
          "data": {
            "text/plain": [
              "<sqlite3.Cursor at 0x7f6f2fe42730>"
            ]
          },
          "metadata": {
            "tags": []
          },
          "execution_count": 5
        }
      ]
    },
    {
      "cell_type": "code",
      "metadata": {
        "id": "8-zoyhK08qrt",
        "colab_type": "code",
        "outputId": "5c02f343-7bcf-4f27-89a3-b957ef5ba6eb",
        "colab": {
          "base_uri": "https://localhost:8080/",
          "height": 34
        }
      },
      "source": [
        "#query total data from the demo\n",
        "curs.execute('SELECT * FROM demo')\n",
        "curs.fetchall()"
      ],
      "execution_count": 0,
      "outputs": [
        {
          "output_type": "execute_result",
          "data": {
            "text/plain": [
              "[('g', 3, 9), ('v', 5, 7), ('f', 8, 7)]"
            ]
          },
          "metadata": {
            "tags": []
          },
          "execution_count": 6
        }
      ]
    },
    {
      "cell_type": "code",
      "metadata": {
        "id": "o-BwqgTI809z",
        "colab_type": "code",
        "outputId": "c920111c-d289-4ce5-8a7b-e4acb631ae2c",
        "colab": {
          "base_uri": "https://localhost:8080/",
          "height": 119
        }
      },
      "source": [
        "questions = ['1: Count how many rows you have - it should be 3!',\n",
        "            '2: How many rows are there where both \"x\" and \"y\" are at least 5?',\n",
        "            '3: How many unique values of \"y\" are there (hint - \"COUNT()\" can accept a keyword \"DISTINCT\")?']\n",
        "\n",
        "queries = ['SELECT COUNT(*) FROM demo;',\n",
        "         'SELECT COUNT(*) FROM demo WHERE x >= 5 AND y >=5;',\n",
        "         'SELECT COUNT(DISTINCT Y) FROM demo;']\n",
        "\n",
        "\n",
        "# Itereate over and print each questions execute the corresponding query and rpint the result\n",
        "\n",
        "for i in range(len(questions)):\n",
        "  print(questions[i])\n",
        "  curs.execute(queries[i])\n",
        "  print(curs.fetchall()[0][0])"
      ],
      "execution_count": 0,
      "outputs": [
        {
          "output_type": "stream",
          "text": [
            "1: Count how many rows you have - it should be 3!\n",
            "3\n",
            "2: How many rows are there where both \"x\" and \"y\" are at least 5?\n",
            "2\n",
            "3: How many unique values of \"y\" are there (hint - \"COUNT()\" can accept a keyword \"DISTINCT\")?\n",
            "2\n"
          ],
          "name": "stdout"
        }
      ]
    },
    {
      "cell_type": "markdown",
      "metadata": {
        "id": "gwE2_lBn-dLv",
        "colab_type": "text"
      },
      "source": [
        "#Part 2 - The Northwind Database"
      ]
    },
    {
      "cell_type": "code",
      "metadata": {
        "id": "4BWs9Yb9-Nse",
        "colab_type": "code",
        "colab": {}
      },
      "source": [
        "from google.colab import files \n",
        "uploaded = files.upload()"
      ],
      "execution_count": 0,
      "outputs": []
    },
    {
      "cell_type": "code",
      "metadata": {
        "id": "arnXLdYr-rTb",
        "colab_type": "code",
        "colab": {}
      },
      "source": [
        "conn = sqlite3.connect('/content/northwind_small (1).sqlite3')\n",
        "curs = conn.cursor()"
      ],
      "execution_count": 0,
      "outputs": []
    },
    {
      "cell_type": "code",
      "metadata": {
        "id": "ElUFcE1E_MlQ",
        "colab_type": "code",
        "outputId": "b45f814a-251d-4959-cb59-029dc062a1c7",
        "colab": {
          "base_uri": "https://localhost:8080/",
          "height": 34
        }
      },
      "source": [
        "conn"
      ],
      "execution_count": 0,
      "outputs": [
        {
          "output_type": "execute_result",
          "data": {
            "text/plain": [
              "<sqlite3.Connection at 0x7f6f44aa1e30>"
            ]
          },
          "metadata": {
            "tags": []
          },
          "execution_count": 11
        }
      ]
    },
    {
      "cell_type": "code",
      "metadata": {
        "id": "AapQFN7U_NvN",
        "colab_type": "code",
        "outputId": "7cf93ccd-e6ae-4818-b415-bf174b1fcd68",
        "colab": {
          "base_uri": "https://localhost:8080/",
          "height": 34
        }
      },
      "source": [
        "curs"
      ],
      "execution_count": 0,
      "outputs": [
        {
          "output_type": "execute_result",
          "data": {
            "text/plain": [
              "<sqlite3.Cursor at 0x7f6f2fe42ab0>"
            ]
          },
          "metadata": {
            "tags": []
          },
          "execution_count": 12
        }
      ]
    },
    {
      "cell_type": "code",
      "metadata": {
        "id": "gL-GHsxr_Oa3",
        "colab_type": "code",
        "outputId": "4ded84a7-a6b4-4c0b-fb57-67098c861ed2",
        "colab": {
          "base_uri": "https://localhost:8080/",
          "height": 1000
        }
      },
      "source": [
        "# Questions\n",
        "\n",
        "questions = ['1: What are the ten most expensive items (per unit price) in the database?',\n",
        "             '2: What is the average age of an employee at the time of their hiring?',\n",
        "             '3: How does the average age of employee at hire vary by city?']\n",
        "\n",
        "queries = ['SELECT ProductName, UnitPrice FROM Product ORDER BY UnitPrice DESC;',\n",
        "           'SELECT ROUND(AVG(HireDate - BirthDate), 1) AS Avg_ag FROM Employee;',\n",
        "           'SELECT CITY, AVG(HireDate - BirthDate) AS Avg_Age FROM Employee GROUP BY CITY;']\n",
        "\n",
        "#Use for loop in order to iterate and exevute the questions and queries and to see the results\n",
        "\n",
        "for i in range(len(questions)):\n",
        "        print(questions[i])\n",
        "        curs.execute(queries[i])\n",
        "        results = curs.fetchall()\n",
        "        if len(results) == 1:\n",
        "              print(results)\n",
        "        else:\n",
        "              for res in results:\n",
        "                  print(res)\n",
        "        print('\\n')"
      ],
      "execution_count": 0,
      "outputs": [
        {
          "output_type": "stream",
          "text": [
            "1: What are the ten most expensive items (per unit price) in the database?\n",
            "('Côte de Blaye', 263.5)\n",
            "('Thüringer Rostbratwurst', 123.79)\n",
            "('Mishi Kobe Niku', 97)\n",
            "(\"Sir Rodney's Marmalade\", 81)\n",
            "('Carnarvon Tigers', 62.5)\n",
            "('Raclette Courdavault', 55)\n",
            "('Manjimup Dried Apples', 53)\n",
            "('Tarte au sucre', 49.3)\n",
            "('Ipoh Coffee', 46)\n",
            "('Rössle Sauerkraut', 45.6)\n",
            "('Schoggi Schokolade', 43.9)\n",
            "('Vegie-spread', 43.9)\n",
            "('Northwoods Cranberry Sauce', 40)\n",
            "('Alice Mutton', 39)\n",
            "('Queso Manchego La Pastora', 38)\n",
            "('Gnocchi di nonna Alice', 38)\n",
            "('Gudbrandsdalsost', 36)\n",
            "('Mozzarella di Giovanni', 34.8)\n",
            "('Camembert Pierrot', 34)\n",
            "('Wimmers gute Semmelknödel', 33.25)\n",
            "('Perth Pasties', 32.8)\n",
            "('Mascarpone Fabioli', 32)\n",
            "('Gumbär Gummibärchen', 31.23)\n",
            "('Ikura', 31)\n",
            "(\"Uncle Bob's Organic Dried Pears\", 30)\n",
            "(\"Sirop d'érable\", 28.5)\n",
            "('Gravad lax', 26)\n",
            "('Nord-Ost Matjeshering', 25.89)\n",
            "(\"Grandma's Boysenberry Spread\", 25)\n",
            "('Pâté chinois', 24)\n",
            "('Tofu', 23.25)\n",
            "(\"Chef Anton's Cajun Seasoning\", 22)\n",
            "('Flotemysost', 21.5)\n",
            "(\"Chef Anton's Gumbo Mix\", 21.35)\n",
            "('Louisiana Fiery Hot Pepper Sauce', 21.05)\n",
            "('Queso Cabrales', 21)\n",
            "(\"Gustaf's Knäckebröd\", 21)\n",
            "('Maxilaku', 20)\n",
            "('Ravioli Angelo', 19.5)\n",
            "('Gula Malacca', 19.45)\n",
            "('Chang', 19)\n",
            "('Inlagd Sill', 19)\n",
            "('Boston Crab Meat', 18.4)\n",
            "('Chai', 18)\n",
            "('Steeleye Stout', 18)\n",
            "('Chartreuse verte', 18)\n",
            "('Lakkalikööri', 18)\n",
            "('Pavlova', 17.45)\n",
            "('Louisiana Hot Spiced Okra', 17)\n",
            "('Valkoinen suklaa', 16.25)\n",
            "('Genen Shouyu', 15.5)\n",
            "('Outback Lager', 15)\n",
            "('Röd Kaviar', 15)\n",
            "('NuNuCa Nuß-Nougat-Creme', 14)\n",
            "('Sasquatch Ale', 14)\n",
            "('Singaporean Hokkien Fried Mee', 14)\n",
            "('Laughing Lumberjack Lager', 14)\n",
            "('Escargots de Bourgogne', 13.25)\n",
            "('Original Frankfurter grüne Soße', 13)\n",
            "('Chocolade', 12.75)\n",
            "('Gorgonzola Telino', 12.5)\n",
            "('Scottish Longbreads', 12.5)\n",
            "('Spegesild', 12)\n",
            "('Aniseed Syrup', 10)\n",
            "(\"Sir Rodney's Scones\", 10)\n",
            "('Longlife Tofu', 10)\n",
            "(\"Jack's New England Clam Chowder\", 9.65)\n",
            "('Rogede sild', 9.5)\n",
            "('Zaanse koeken', 9.5)\n",
            "('Teatime Chocolate Biscuits', 9.2)\n",
            "('Tunnbröd', 9)\n",
            "('Rhönbräu Klosterbier', 7.75)\n",
            "('Tourtière', 7.45)\n",
            "('Filo Mix', 7)\n",
            "('Konbu', 6)\n",
            "('Guaraná Fantástica', 4.5)\n",
            "('Geitost', 2.5)\n",
            "\n",
            "\n",
            "2: What is the average age of an employee at the time of their hiring?\n",
            "[(37.2,)]\n",
            "\n",
            "\n",
            "3: How does the average age of employee at hire vary by city?\n",
            "('Kirkland', 29.0)\n",
            "('London', 32.5)\n",
            "('Redmond', 56.0)\n",
            "('Seattle', 40.0)\n",
            "('Tacoma', 40.0)\n",
            "\n",
            "\n"
          ],
          "name": "stdout"
        }
      ]
    },
    {
      "cell_type": "markdown",
      "metadata": {
        "id": "y1-lXRpRDaZf",
        "colab_type": "text"
      },
      "source": [
        "#Part 3 - Sailing the Northwind Seas"
      ]
    },
    {
      "cell_type": "code",
      "metadata": {
        "id": "ePdCxjz3BqNt",
        "colab_type": "code",
        "outputId": "d0d2be96-47e1-4968-904e-c82a8a05507a",
        "colab": {
          "base_uri": "https://localhost:8080/",
          "height": 374
        }
      },
      "source": [
        "questions = ['1: What are the ten most expensive items (per unit price) in the database *and* their suppliers?',\n",
        "             '2: What is the largest category (by number of unique products in it)?',\n",
        "             \"3: Who's the employee with the most territories?\"]\n",
        "\n",
        "queries = ['SELECT Product.ProductName, Product.UnitPrice, Supplier.CompanyName AS Supplier FROM Product, Supplier WHERE Product.SupplierID = Supplier.ID ORDER BY UnitPrice DESC LIMIT 10;',\n",
        "           'SELECT Category.CategoryName, Count(*) FROM Product, Category WHERE Product.CategoryID = Category.ID GROUP BY Product.CategoryID ORDER BY COUNT(*) DESC LIMIT 1;',\n",
        "           'SELECT Employee.FirstName, Employee.LastName, Count(*) FROM Employee, EmployeeTerritory WHERE EmployeeID = Employee.ID Group BY Employee.ID ORDER BY COUNT(*) DESC LIMIT 1;']\n",
        "\n",
        "for t in range(len(questions)):\n",
        "        print(questions[t])\n",
        "        curs.execute(queries[t])\n",
        "        results = curs.fetchall()\n",
        "        if len(results) == 1:\n",
        "            print(results)\n",
        "        else: \n",
        "            for res in results:\n",
        "              print(res)\n",
        "        print('\\n')\n"
      ],
      "execution_count": 0,
      "outputs": [
        {
          "output_type": "stream",
          "text": [
            "1: What are the ten most expensive items (per unit price) in the database *and* their suppliers?\n",
            "('Côte de Blaye', 263.5, 'Aux joyeux ecclésiastiques')\n",
            "('Thüringer Rostbratwurst', 123.79, 'Plutzer Lebensmittelgroßmärkte AG')\n",
            "('Mishi Kobe Niku', 97, 'Tokyo Traders')\n",
            "(\"Sir Rodney's Marmalade\", 81, 'Specialty Biscuits, Ltd.')\n",
            "('Carnarvon Tigers', 62.5, 'Pavlova, Ltd.')\n",
            "('Raclette Courdavault', 55, 'Gai pâturage')\n",
            "('Manjimup Dried Apples', 53, \"G'day, Mate\")\n",
            "('Tarte au sucre', 49.3, \"Forêts d'érables\")\n",
            "('Ipoh Coffee', 46, 'Leka Trading')\n",
            "('Rössle Sauerkraut', 45.6, 'Plutzer Lebensmittelgroßmärkte AG')\n",
            "\n",
            "\n",
            "2: What is the largest category (by number of unique products in it)?\n",
            "[('Confections', 13)]\n",
            "\n",
            "\n",
            "3: Who's the employee with the most territories?\n",
            "[('Robert', 'King', 10)]\n",
            "\n",
            "\n"
          ],
          "name": "stdout"
        }
      ]
    },
    {
      "cell_type": "markdown",
      "metadata": {
        "id": "QD33QipDLSmY",
        "colab_type": "text"
      },
      "source": [
        "#Part 4 Questions and answers"
      ]
    },
    {
      "cell_type": "code",
      "metadata": {
        "id": "2rkjC0woKvYJ",
        "colab_type": "code",
        "colab": {}
      },
      "source": [
        "Queustions = ['1: In the Northwind database, what is the type of relationship between the `Employee` and `Territory` tables?',\n",
        "              '2: What is a situation where a document store (like MongoDB) is appropriate, and what is a situation where it is not appropriate?,\n",
        "              '3: What is \"NewSQL\", and what is it trying to achieve?']\n",
        "\n",
        "Answers = ['1: It looks like Northwind database is \"own too many\" relationships',\n",
        "           '2: Usually unstaructured and semi structured data are stored in MongoDB becasue it can hold large amount of data and it is appropriate.',\n",
        "           '3: I think New SQL is kind of blended aproach to the database systems to reconciele the conflicts' "
      ],
      "execution_count": 0,
      "outputs": []
    }
  ]
}